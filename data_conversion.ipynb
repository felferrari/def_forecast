{
 "cells": [
  {
   "cell_type": "markdown",
   "metadata": {},
   "source": [
    "## Importing"
   ]
  },
  {
   "cell_type": "code",
   "execution_count": 7,
   "metadata": {},
   "outputs": [],
   "source": [
    "import fiona\n",
    "from pathlib import Path\n",
    "import pandas as pd\n",
    "from osgeo import ogr, gdal, gdalconst, osr\n",
    "from osgeo_utils import gdal_merge\n",
    "import numpy as np"
   ]
  },
  {
   "cell_type": "markdown",
   "metadata": {},
   "source": [
    "## Paths"
   ]
  },
  {
   "cell_type": "code",
   "execution_count": 8,
   "metadata": {},
   "outputs": [],
   "source": [
    "tiff_path = Path(r'data/tiff')"
   ]
  },
  {
   "cell_type": "markdown",
   "metadata": {},
   "source": [
    "## Opening files"
   ]
  },
  {
   "cell_type": "code",
   "execution_count": 9,
   "metadata": {},
   "outputs": [],
   "source": [
    "cells_path = Path(r'data/shp/amz_25km_attr_quin/amz_25km_attr_quin_2.shp')\n",
    "col = fiona.open(cells_path)"
   ]
  },
  {
   "cell_type": "markdown",
   "metadata": {},
   "source": [
    "## Mask data"
   ]
  },
  {
   "cell_type": "code",
   "execution_count": 10,
   "metadata": {},
   "outputs": [],
   "source": [
    "v_cells_data = ogr.Open(str(cells_path))\n",
    "l_cells_data = v_cells_data.GetLayer()\n",
    "x_res = 25000\n",
    "y_res = 25000\n",
    "x_min, x_max, y_min, y_max = l_cells_data.GetExtent()\n",
    "\n",
    "target_ds = gdal.Rasterize(\n",
    "    str(tiff_path / f'mask.tif'),\n",
    "    str(cells_path),\n",
    "    xRes = x_res,\n",
    "    yRes = y_res,\n",
    "    burnValues  = [1],\n",
    "    outputBounds=[x_min, y_min, x_max, y_max],\n",
    "    initValues  = [0],\n",
    "    outputType=gdal.GDT_Byte\n",
    ")\n",
    "target_ds = None"
   ]
  },
  {
   "cell_type": "markdown",
   "metadata": {},
   "source": [
    "## ArCS Data"
   ]
  },
  {
   "cell_type": "markdown",
   "metadata": {},
   "source": [
    "### Rearranging date information"
   ]
  },
  {
   "cell_type": "code",
   "execution_count": 11,
   "metadata": {},
   "outputs": [],
   "source": [
    "cells_path = Path(r'data/shp/amz_25km_attr_quin/amz_25km_attr_quin_2.shp')\n",
    "col = fiona.open(cells_path)\n",
    "attr_dict = {f'{att[0:4]}{att[8:]}{att[6:8]}{att[4:6]}':att for att in col.schema['properties'].keys() if str(att).startswith('ArCS')}\n",
    "sorted_attr_dict = dict(sorted(attr_dict.items()))"
   ]
  },
  {
   "cell_type": "markdown",
   "metadata": {},
   "source": [
    "### Generating Files"
   ]
  },
  {
   "cell_type": "code",
   "execution_count": 12,
   "metadata": {},
   "outputs": [
    {
     "name": "stdout",
     "output_type": "stream",
     "text": [
      "01 - ArCS010817\n",
      "02 - ArCS160817\n",
      "03 - ArCS010917\n",
      "04 - ArCS160917\n",
      "05 - ArCS011017\n",
      "06 - ArCS161017\n",
      "07 - ArCS011117\n",
      "08 - ArCS161117\n",
      "09 - ArCS011217\n",
      "10 - ArCS161217\n",
      "11 - ArCS010118\n",
      "12 - ArCS160118\n",
      "13 - ArCS010218\n",
      "14 - ArCS160218\n",
      "15 - ArCS010318\n",
      "16 - ArCS160318\n",
      "17 - ArCS010418\n",
      "18 - ArCS160418\n",
      "19 - ArCS010518\n",
      "20 - ArCS160518\n",
      "21 - ArCS010618\n",
      "22 - ArCS160618\n",
      "23 - ArCS010718\n",
      "24 - ArCS160718\n",
      "25 - ArCS010818\n",
      "26 - ArCS160818\n",
      "27 - ArCS010918\n",
      "28 - ArCS160918\n",
      "29 - ArCS011018\n",
      "30 - ArCS161018\n",
      "31 - ArCS011118\n",
      "32 - ArCS161118\n",
      "33 - ArCS011218\n",
      "34 - ArCS161218\n",
      "35 - ArCS010119\n",
      "36 - ArCS160119\n",
      "37 - ArCS010219\n",
      "38 - ArCS160219\n",
      "39 - ArCS010319\n",
      "40 - ArCS160319\n",
      "41 - ArCS010419\n",
      "42 - ArCS160419\n",
      "43 - ArCS010519\n",
      "44 - ArCS160519\n",
      "45 - ArCS010619\n",
      "46 - ArCS160619\n",
      "47 - ArCS010719\n",
      "48 - ArCS160719\n",
      "49 - ArCS010819\n",
      "50 - ArCS160819\n",
      "51 - ArCS010919\n",
      "52 - ArCS160919\n",
      "53 - ArCS011019\n",
      "54 - ArCS161019\n",
      "55 - ArCS011119\n",
      "56 - ArCS161119\n",
      "57 - ArCS011219\n",
      "58 - ArCS161219\n",
      "59 - ArCS010120\n",
      "60 - ArCS160120\n",
      "61 - ArCS010220\n",
      "62 - ArCS160220\n",
      "63 - ArCS010320\n",
      "64 - ArCS160320\n",
      "65 - ArCS010420\n",
      "66 - ArCS160420\n",
      "67 - ArCS010520\n",
      "68 - ArCS160520\n",
      "69 - ArCS010620\n",
      "70 - ArCS160620\n",
      "71 - ArCS010720\n",
      "72 - ArCS160720\n",
      "73 - ArCS010820\n",
      "74 - ArCS160820\n",
      "75 - ArCS010920\n",
      "76 - ArCS160920\n",
      "77 - ArCS011020\n",
      "78 - ArCS161020\n",
      "79 - ArCS011120\n",
      "80 - ArCS161120\n",
      "81 - ArCS011220\n",
      "82 - ArCS161220\n",
      "0...10...20...30...40...50...60...70...80...90...100 - done.\n"
     ]
    }
   ],
   "source": [
    "no_data_value = 0\n",
    "v_cells_data = ogr.Open(str(cells_path))\n",
    "l_cells_data = v_cells_data.GetLayer()\n",
    "x_res = 25000\n",
    "y_res = 25000\n",
    "x_min, x_max, y_min, y_max = l_cells_data.GetExtent()\n",
    "\n",
    "count = 0\n",
    "list_files = []\n",
    "for i, attr in enumerate(sorted_attr_dict):\n",
    "    if i < 10:\n",
    "        continue\n",
    "    count +=1\n",
    "    target_ds = gdal.Rasterize(\n",
    "        str(tiff_path / f'{sorted_attr_dict[attr]}.tif'),\n",
    "        str(cells_path),\n",
    "        xRes = x_res,\n",
    "        yRes = y_res,\n",
    "        attribute  = sorted_attr_dict[attr],\n",
    "        outputBounds=[x_min, y_min, x_max, y_max],\n",
    "        noData = no_data_value,\n",
    "        outputType=gdal.GDT_Float32\n",
    "    )\n",
    "    list_files.append(str(tiff_path / f'{sorted_attr_dict[attr]}.tif'))\n",
    "    target_ds = None\n",
    "    print(f'{count:02d} - {sorted_attr_dict[attr]}')\n",
    "\n",
    "parameters = ['', '-separate', '-a_nodata', f'{no_data_value}', '-o', 'data/tiff/ArCS.tif'] + list_files\n",
    "gdal_merge.main(parameters)\n",
    "\n"
   ]
  },
  {
   "cell_type": "markdown",
   "metadata": {},
   "source": [
    "## DeAr Data"
   ]
  },
  {
   "cell_type": "markdown",
   "metadata": {},
   "source": [
    "### Rearranging date information\n"
   ]
  },
  {
   "cell_type": "code",
   "execution_count": 13,
   "metadata": {},
   "outputs": [],
   "source": [
    "cells_path = Path(r'data/shp/amz_25km_attr_quin/amz_25km_attr_quin_2.shp')\n",
    "col = fiona.open(cells_path)\n",
    "attr_dict = {f'{att[0:4]}{att[8:]}{att[6:8]}{att[4:6]}':att for att in col.schema['properties'].keys() if str(att).startswith('DeAr')}\n",
    "sorted_attr_dict = dict(sorted(attr_dict.items()))"
   ]
  },
  {
   "cell_type": "markdown",
   "metadata": {},
   "source": [
    "### Generating Files"
   ]
  },
  {
   "cell_type": "code",
   "execution_count": 14,
   "metadata": {},
   "outputs": [
    {
     "name": "stdout",
     "output_type": "stream",
     "text": [
      "01 - DeAr010817\n",
      "02 - DeAr160817\n",
      "03 - DeAr010917\n",
      "04 - DeAr160917\n",
      "05 - DeAr011017\n",
      "06 - DeAr161017\n",
      "07 - DeAr011117\n",
      "08 - DeAr161117\n",
      "09 - DeAr011217\n",
      "10 - DeAr161217\n",
      "11 - DeAr160118\n",
      "12 - DeAr010218\n",
      "13 - DeAr160218\n",
      "14 - DeAr010318\n",
      "15 - DeAr160318\n",
      "16 - DeAr010418\n",
      "17 - DeAr160418\n",
      "18 - DeAr010518\n",
      "19 - DeAr160518\n",
      "20 - DeAr010618\n",
      "21 - DeAr160618\n",
      "22 - DeAr010718\n",
      "23 - DeAr160718\n",
      "24 - DeAr010818\n",
      "25 - DeAr160818\n",
      "26 - DeAr010918\n",
      "27 - DeAr160918\n",
      "28 - DeAr011018\n",
      "29 - DeAr161018\n",
      "30 - DeAr011118\n",
      "31 - DeAr161118\n",
      "32 - DeAr011218\n",
      "33 - DeAr161218\n",
      "34 - DeAr160119\n",
      "35 - DeAr010219\n",
      "36 - DeAr160219\n",
      "37 - DeAr010319\n",
      "38 - DeAr160319\n",
      "39 - DeAr010419\n",
      "40 - DeAr160419\n",
      "41 - DeAr010519\n",
      "42 - DeAr160519\n",
      "43 - DeAr010619\n",
      "44 - DeAr160619\n",
      "45 - DeAr010719\n",
      "46 - DeAr160719\n",
      "47 - DeAr010819\n",
      "48 - DeAr160819\n",
      "49 - DeAr010919\n",
      "50 - DeAr160919\n",
      "51 - DeAr011019\n",
      "52 - DeAr161019\n",
      "53 - DeAr011119\n",
      "54 - DeAr161119\n",
      "55 - DeAr011219\n",
      "56 - DeAr161219\n",
      "57 - DeAr160120\n",
      "58 - DeAr010220\n",
      "59 - DeAr160220\n",
      "60 - DeAr010320\n",
      "61 - DeAr160320\n",
      "62 - DeAr010420\n",
      "63 - DeAr160420\n",
      "64 - DeAr010520\n",
      "65 - DeAr160520\n",
      "66 - DeAr010620\n",
      "67 - DeAr160620\n",
      "68 - DeAr010720\n",
      "69 - DeAr160720\n",
      "70 - DeAr010820\n",
      "71 - DeAr160820\n",
      "72 - DeAr010920\n",
      "73 - DeAr160920\n",
      "74 - DeAr011020\n",
      "75 - DeAr161020\n",
      "76 - DeAr011120\n",
      "77 - DeAr161120\n",
      "78 - DeAr011220\n",
      "79 - DeAr161220\n",
      "0...10...20...30...40...50...60...70...80...90...100 - done.\n"
     ]
    }
   ],
   "source": [
    "no_data_value = 0\n",
    "v_cells_data = ogr.Open(str(cells_path))\n",
    "l_cells_data = v_cells_data.GetLayer()\n",
    "x_res = 25000\n",
    "y_res = 25000\n",
    "x_min, x_max, y_min, y_max = l_cells_data.GetExtent()\n",
    "\n",
    "count = 0\n",
    "list_files = []\n",
    "for i, attr in enumerate(sorted_attr_dict):\n",
    "    if i < 9:\n",
    "        continue\n",
    "    count +=1\n",
    "    target_ds = gdal.Rasterize(\n",
    "        str(tiff_path / f'{sorted_attr_dict[attr]}.tif'),\n",
    "        str(cells_path),\n",
    "        xRes = x_res,\n",
    "        yRes = y_res,\n",
    "        attribute  = sorted_attr_dict[attr],\n",
    "        outputBounds=[x_min, y_min, x_max, y_max],\n",
    "        noData = no_data_value,\n",
    "        outputType=gdal.GDT_Float32\n",
    "    )\n",
    "    list_files.append(str(tiff_path / f'{sorted_attr_dict[attr]}.tif'))\n",
    "    target_ds = None\n",
    "    print(f'{count:02d} - {sorted_attr_dict[attr]}')\n",
    "\n",
    "parameters = ['', '-separate', '-a_nodata', f'{no_data_value}', '-o', 'data/tiff/DeAr.tif'] + list_files\n",
    "gdal_merge.main(parameters)\n",
    "\n"
   ]
  },
  {
   "cell_type": "markdown",
   "metadata": {},
   "source": [
    "## "
   ]
  },
  {
   "cell_type": "markdown",
   "metadata": {},
   "source": [
    "## Floresta"
   ]
  },
  {
   "cell_type": "code",
   "execution_count": 15,
   "metadata": {},
   "outputs": [],
   "source": [
    "cells_path = Path(r'data/shp/amz_25km_floresta/amz_25km_floresta.shp')\n",
    "col = fiona.open(cells_path)\n"
   ]
  },
  {
   "cell_type": "code",
   "execution_count": 16,
   "metadata": {},
   "outputs": [],
   "source": [
    "attr_dict = {f'{att[0:4]}{att[8:]}{att[6:8]}{att[4:6]}':att for att in col.schema['properties'].keys() if str(att).startswith('flor')}\n",
    "sorted_attr_dict = dict(sorted(attr_dict.items()))"
   ]
  },
  {
   "cell_type": "code",
   "execution_count": 17,
   "metadata": {},
   "outputs": [
    {
     "name": "stdout",
     "output_type": "stream",
     "text": [
      "01 - flor010817\n",
      "02 - flor160817\n",
      "03 - flor010917\n",
      "04 - flor160917\n",
      "05 - flor011017\n",
      "06 - flor161017\n",
      "07 - flor011117\n",
      "08 - flor161117\n",
      "09 - flor011217\n",
      "10 - flor161217\n",
      "11 - flor010118\n",
      "12 - flor160118\n",
      "13 - flor010218\n",
      "14 - flor160218\n",
      "15 - flor010318\n",
      "16 - flor160318\n",
      "17 - flor010418\n",
      "18 - flor160418\n",
      "19 - flor010518\n",
      "20 - flor160518\n",
      "21 - flor010618\n",
      "22 - flor160618\n",
      "23 - flor010718\n",
      "24 - flor160718\n",
      "25 - flor010818\n",
      "26 - flor160818\n",
      "27 - flor010918\n",
      "28 - flor160918\n",
      "29 - flor011018\n",
      "30 - flor161018\n",
      "31 - flor011118\n",
      "32 - flor161118\n",
      "33 - flor011218\n",
      "34 - flor161218\n",
      "35 - flor010119\n",
      "36 - flor160119\n",
      "37 - flor010219\n",
      "38 - flor160219\n",
      "39 - flor010319\n",
      "40 - flor160319\n",
      "41 - flor010419\n",
      "42 - flor160419\n",
      "43 - flor010519\n",
      "44 - flor160519\n",
      "45 - flor010619\n",
      "46 - flor160619\n",
      "47 - flor010719\n",
      "48 - flor160719\n",
      "49 - flor010819\n",
      "50 - flor160819\n",
      "51 - flor010919\n",
      "52 - flor160919\n",
      "53 - flor011019\n",
      "54 - flor161019\n",
      "55 - flor011119\n",
      "56 - flor161119\n",
      "57 - flor011219\n",
      "58 - flor161219\n",
      "59 - flor010120\n",
      "60 - flor160120\n",
      "61 - flor010220\n",
      "62 - flor160220\n",
      "63 - flor010320\n",
      "64 - flor160320\n",
      "65 - flor010420\n",
      "66 - flor160420\n",
      "67 - flor010520\n",
      "68 - flor160520\n",
      "69 - flor010620\n",
      "70 - flor160620\n",
      "71 - flor010720\n",
      "72 - flor160720\n",
      "73 - flor010820\n",
      "74 - flor160820\n",
      "75 - flor010920\n",
      "76 - flor160920\n",
      "77 - flor011020\n",
      "78 - flor161020\n",
      "79 - flor011120\n",
      "80 - flor161120\n",
      "81 - flor011220\n",
      "82 - flor161220\n",
      "0...10...20...30...40...50...60...70...80...90...100 - done.\n"
     ]
    }
   ],
   "source": [
    "no_data_value = 0\n",
    "v_cells_data = ogr.Open(str(cells_path))\n",
    "l_cells_data = v_cells_data.GetLayer()\n",
    "x_res = 25000\n",
    "y_res = 25000\n",
    "x_min, x_max, y_min, y_max = l_cells_data.GetExtent()\n",
    "\n",
    "count = 0\n",
    "list_files = []\n",
    "for i, attr in enumerate(sorted_attr_dict):\n",
    "    if i < 0:\n",
    "        continue\n",
    "    count +=1\n",
    "    target_ds = gdal.Rasterize(\n",
    "        str(tiff_path / f'{sorted_attr_dict[attr]}.tif'),\n",
    "        str(cells_path),\n",
    "        xRes = x_res,\n",
    "        yRes = y_res,\n",
    "        attribute  = sorted_attr_dict[attr],\n",
    "        outputBounds=[x_min, y_min, x_max, y_max],\n",
    "        noData = no_data_value,\n",
    "        outputType=gdal.GDT_Float32\n",
    "    )\n",
    "    list_files.append(str(tiff_path / f'{sorted_attr_dict[attr]}.tif'))\n",
    "    target_ds = None\n",
    "    print(f'{count:02d} - {sorted_attr_dict[attr]}')\n",
    "\n",
    "parameters = ['', '-separate', '-a_nodata', f'{no_data_value}', '-o', 'data/tiff/flor.tif'] + list_files\n",
    "gdal_merge.main(parameters)\n",
    "\n"
   ]
  },
  {
   "cell_type": "code",
   "execution_count": 18,
   "metadata": {},
   "outputs": [],
   "source": [
    "attr_dict = {f'{att}':att for att in col.schema['properties'].keys() if str(att) in ['hidr', 'nf']}\n",
    "sorted_attr_dict = dict(sorted(attr_dict.items()))"
   ]
  },
  {
   "cell_type": "code",
   "execution_count": 19,
   "metadata": {},
   "outputs": [
    {
     "data": {
      "text/plain": [
       "{'hidr': 'hidr', 'nf': 'nf'}"
      ]
     },
     "execution_count": 19,
     "metadata": {},
     "output_type": "execute_result"
    }
   ],
   "source": [
    "sorted_attr_dict"
   ]
  },
  {
   "cell_type": "code",
   "execution_count": 20,
   "metadata": {},
   "outputs": [
    {
     "name": "stdout",
     "output_type": "stream",
     "text": [
      "01 - hidr\n",
      "02 - nf\n"
     ]
    }
   ],
   "source": [
    "no_data_value = -1\n",
    "v_cells_data = ogr.Open(str(cells_path))\n",
    "l_cells_data = v_cells_data.GetLayer()\n",
    "x_res = 25000\n",
    "y_res = 25000\n",
    "x_min, x_max, y_min, y_max = l_cells_data.GetExtent()\n",
    "\n",
    "list_files = []\n",
    "for i, attr in enumerate(sorted_attr_dict):\n",
    "    target_ds = gdal.Rasterize(\n",
    "        str(tiff_path / f'{sorted_attr_dict[attr]}.tif'),\n",
    "        str(cells_path),\n",
    "        xRes = x_res,\n",
    "        yRes = y_res,\n",
    "        attribute  = sorted_attr_dict[attr],\n",
    "        outputBounds=[x_min, y_min, x_max, y_max],\n",
    "        noData = no_data_value,\n",
    "        outputType=gdal.GDT_Float32\n",
    "    )\n",
    "    list_files.append(str(tiff_path / f'{sorted_attr_dict[attr]}.tif'))\n",
    "    target_ds = None\n",
    "    print(f'{i+1:02d} - {sorted_attr_dict[attr]}')\n"
   ]
  },
  {
   "cell_type": "markdown",
   "metadata": {},
   "source": [
    "## Nuvem"
   ]
  },
  {
   "cell_type": "code",
   "execution_count": 21,
   "metadata": {},
   "outputs": [],
   "source": [
    "cells_path = Path(r'data/shp/amz_25km_nuvemquinz/amz_25km_celulas_nuvemquinzenal_reprojetado.shp')\n",
    "col = fiona.open(cells_path)\n",
    "attr_dict = {f'{att}':att for att in col.schema['properties'].keys() if str(att).startswith('nv')}\n",
    "sorted_attr_dict = dict(sorted(attr_dict.items()))"
   ]
  },
  {
   "cell_type": "code",
   "execution_count": 22,
   "metadata": {},
   "outputs": [
    {
     "name": "stdout",
     "output_type": "stream",
     "text": [
      "01 - nv20170801\n",
      "02 - nv20170816\n",
      "03 - nv20170901\n",
      "04 - nv20170916\n",
      "05 - nv20171001\n",
      "06 - nv20171016\n",
      "07 - nv20171101\n",
      "08 - nv20171116\n",
      "09 - nv20171201\n",
      "10 - nv20171215\n",
      "11 - nv20180101\n",
      "12 - nv20180116\n",
      "13 - nv20180201\n",
      "14 - nv20180216\n",
      "15 - nv20180301\n",
      "16 - nv20180316\n",
      "17 - nv20180401\n",
      "18 - nv20180416\n",
      "19 - nv20180501\n",
      "20 - nv20180516\n",
      "21 - nv20180601\n",
      "22 - nv20180615\n",
      "23 - nv20180701\n",
      "24 - nv20180716\n",
      "25 - nv20180801\n",
      "26 - nv20180816\n",
      "27 - nv20180901\n",
      "28 - nv20180916\n",
      "29 - nv20181001\n",
      "30 - nv20181016\n",
      "31 - nv20181101\n",
      "32 - nv20181116\n",
      "33 - nv20181201\n",
      "34 - nv20181215\n",
      "35 - nv20190101\n",
      "36 - nv20190116\n",
      "37 - nv20190201\n",
      "38 - nv20190216\n",
      "39 - nv20190301\n",
      "40 - nv20190316\n",
      "41 - nv20190401\n",
      "42 - nv20190416\n",
      "43 - nv20190501\n",
      "44 - nv20190516\n",
      "45 - nv20190601\n",
      "46 - nv20190615\n",
      "47 - nv20190701\n",
      "48 - nv20190716\n",
      "49 - nv20190801\n",
      "50 - nv20190816\n",
      "51 - nv20190901\n",
      "52 - nv20190916\n",
      "53 - nv20191001\n",
      "54 - nv20191016\n",
      "55 - nv20191101\n",
      "56 - nv20191116\n",
      "57 - nv20191201\n",
      "58 - nv20191215\n",
      "59 - nv20200101\n",
      "60 - nv20200116\n",
      "61 - nv20200201\n",
      "62 - nv20200216\n",
      "63 - nv20200301\n",
      "64 - nv20200316\n",
      "65 - nv20200401\n",
      "66 - nv20200416\n",
      "67 - nv20200501\n",
      "68 - nv20200516\n",
      "69 - nv20200601\n",
      "70 - nv20200615\n",
      "71 - nv20200701\n",
      "72 - nv20200716\n",
      "73 - nv20200801\n",
      "74 - nv20200816\n",
      "75 - nv20200901\n",
      "76 - nv20200916\n",
      "77 - nv20201001\n",
      "78 - nv20201016\n",
      "79 - nv20201101\n",
      "80 - nv20201116\n",
      "81 - nv20201201\n",
      "82 - nv20201215\n",
      "0...10...20...30...40...50...60...70...80...90...100 - done.\n"
     ]
    }
   ],
   "source": [
    "no_data_value = 0\n",
    "v_cells_data = ogr.Open(str(cells_path))\n",
    "l_cells_data = v_cells_data.GetLayer()\n",
    "x_res = 25000\n",
    "y_res = 25000\n",
    "x_min, x_max, y_min, y_max = l_cells_data.GetExtent()\n",
    "\n",
    "count = 0\n",
    "list_files = []\n",
    "for i, attr in enumerate(sorted_attr_dict):\n",
    "    if i > 81:\n",
    "        continue\n",
    "    count +=1\n",
    "    target_ds = gdal.Rasterize(\n",
    "        str(tiff_path / f'{sorted_attr_dict[attr]}.tif'),\n",
    "        str(cells_path),\n",
    "        xRes = x_res,\n",
    "        yRes = y_res,\n",
    "        attribute  = sorted_attr_dict[attr],\n",
    "        outputBounds=[x_min, y_min, x_max, y_max],\n",
    "        noData = no_data_value,\n",
    "        outputType=gdal.GDT_Float32\n",
    "    )\n",
    "    list_files.append(str(tiff_path / f'{sorted_attr_dict[attr]}.tif'))\n",
    "    target_ds = None\n",
    "    print(f'{count:02d} - {sorted_attr_dict[attr]}')\n",
    "\n",
    "parameters = ['', '-separate', '-a_nodata', f'{no_data_value}', '-o', 'data/tiff/nv.tif'] + list_files\n",
    "gdal_merge.main(parameters)\n",
    "\n"
   ]
  },
  {
   "cell_type": "markdown",
   "metadata": {},
   "source": [
    "## Info fundiárias"
   ]
  },
  {
   "cell_type": "code",
   "execution_count": 23,
   "metadata": {},
   "outputs": [],
   "source": [
    "cells_path = Path(r'data/shp/amz_25km_fundiarias_distancias/amz_25km_fundiarias_distancias.shp')\n",
    "col = fiona.open(cells_path)"
   ]
  },
  {
   "cell_type": "code",
   "execution_count": 24,
   "metadata": {},
   "outputs": [],
   "source": [
    "attr_dict = {f'{att}':att for att in col.schema['properties'].keys() if str(att) not in ['id', 'col', 'row']}\n",
    "sorted_attr_dict = dict(sorted(attr_dict.items()))"
   ]
  },
  {
   "cell_type": "code",
   "execution_count": 25,
   "metadata": {},
   "outputs": [
    {
     "name": "stdout",
     "output_type": "stream",
     "text": [
      "01 - EFAMS_APA\n",
      "02 - EFAMS_ASS\n",
      "03 - EFAMS_CAR\n",
      "04 - EFAMS_FPND\n",
      "05 - EFAMS_IND\n",
      "06 - EFAMS_TI\n"
     ]
    },
    {
     "name": "stdout",
     "output_type": "stream",
     "text": [
      "07 - EFAMS_UC\n",
      "08 - distUrb\n",
      "09 - distport\n",
      "10 - distrios\n",
      "11 - rodnofic\n",
      "12 - rodofic\n"
     ]
    }
   ],
   "source": [
    "no_data_value = 0\n",
    "v_cells_data = ogr.Open(str(cells_path))\n",
    "l_cells_data = v_cells_data.GetLayer()\n",
    "x_res = 25000\n",
    "y_res = 25000\n",
    "x_min, x_max, y_min, y_max = l_cells_data.GetExtent()\n",
    "\n",
    "list_files = []\n",
    "for i, attr in enumerate(sorted_attr_dict):\n",
    "    target_ds = gdal.Rasterize(\n",
    "        str(tiff_path / f'{sorted_attr_dict[attr]}.tif'),\n",
    "        str(cells_path),\n",
    "        xRes = x_res,\n",
    "        yRes = y_res,\n",
    "        attribute  = sorted_attr_dict[attr],\n",
    "        outputBounds=[x_min, y_min, x_max, y_max],\n",
    "        noData = no_data_value,\n",
    "        outputType=gdal.GDT_Float32\n",
    "    )\n",
    "    list_files.append(str(tiff_path / f'{sorted_attr_dict[attr]}.tif'))\n",
    "    target_ds = None\n",
    "    print(f'{i+1:02d} - {sorted_attr_dict[attr]}')\n"
   ]
  },
  {
   "cell_type": "markdown",
   "metadata": {},
   "source": [
    "## Monthly Data"
   ]
  },
  {
   "cell_type": "code",
   "execution_count": 26,
   "metadata": {},
   "outputs": [],
   "source": [
    "cells_path = Path(r'data/shp/amz_25km_attr_quin/amz_25km_attr_quin_2.shp')\n",
    "col = fiona.open(cells_path)\n",
    "attr_dict = {f'{att[0:4]}{att[8:]}{att[6:8]}{att[4:6]}':att for att in col.schema['properties'].keys() if str(att).startswith('ArCS')}\n",
    "sorted_attr_dict = dict(sorted(attr_dict.items()))"
   ]
  },
  {
   "cell_type": "code",
   "execution_count": 27,
   "metadata": {},
   "outputs": [
    {
     "name": "stdout",
     "output_type": "stream",
     "text": [
      "01 - monthly15-17.tif\n",
      "02 - monthly16-17.tif\n",
      "03 - monthly17-17.tif\n",
      "04 - monthly18-17.tif\n",
      "05 - monthly19-17.tif\n",
      "06 - monthly20-17.tif\n",
      "07 - monthly21-17.tif\n",
      "08 - monthly22-17.tif\n",
      "09 - monthly23-17.tif\n",
      "10 - monthly24-17.tif\n",
      "11 - monthly1-18.tif\n",
      "12 - monthly2-18.tif\n",
      "13 - monthly3-18.tif\n",
      "14 - monthly4-18.tif\n",
      "15 - monthly5-18.tif\n",
      "16 - monthly6-18.tif\n",
      "17 - monthly7-18.tif\n",
      "18 - monthly8-18.tif\n",
      "19 - monthly9-18.tif\n",
      "20 - monthly10-18.tif\n",
      "21 - monthly11-18.tif\n",
      "22 - monthly12-18.tif\n",
      "23 - monthly13-18.tif\n",
      "24 - monthly14-18.tif\n",
      "25 - monthly15-18.tif\n",
      "26 - monthly16-18.tif\n",
      "27 - monthly17-18.tif\n",
      "28 - monthly18-18.tif\n",
      "29 - monthly19-18.tif\n",
      "30 - monthly20-18.tif\n",
      "31 - monthly21-18.tif\n",
      "32 - monthly22-18.tif\n",
      "33 - monthly23-18.tif\n",
      "34 - monthly24-18.tif\n",
      "35 - monthly1-19.tif\n",
      "36 - monthly2-19.tif\n",
      "37 - monthly3-19.tif\n",
      "38 - monthly4-19.tif\n",
      "39 - monthly5-19.tif\n",
      "40 - monthly6-19.tif\n",
      "41 - monthly7-19.tif\n",
      "42 - monthly8-19.tif\n",
      "43 - monthly9-19.tif\n",
      "44 - monthly10-19.tif\n",
      "45 - monthly11-19.tif\n",
      "46 - monthly12-19.tif\n",
      "47 - monthly13-19.tif\n",
      "48 - monthly14-19.tif\n",
      "49 - monthly15-19.tif\n",
      "50 - monthly16-19.tif\n",
      "51 - monthly17-19.tif\n",
      "52 - monthly18-19.tif\n",
      "53 - monthly19-19.tif\n",
      "54 - monthly20-19.tif\n",
      "55 - monthly21-19.tif\n",
      "56 - monthly22-19.tif\n",
      "57 - monthly23-19.tif\n",
      "58 - monthly24-19.tif\n",
      "59 - monthly1-20.tif\n",
      "60 - monthly2-20.tif\n",
      "61 - monthly3-20.tif\n",
      "62 - monthly4-20.tif\n",
      "63 - monthly5-20.tif\n",
      "64 - monthly6-20.tif\n",
      "65 - monthly7-20.tif\n",
      "66 - monthly8-20.tif\n",
      "67 - monthly9-20.tif\n",
      "68 - monthly10-20.tif\n",
      "69 - monthly11-20.tif\n",
      "70 - monthly12-20.tif\n",
      "71 - monthly13-20.tif\n",
      "72 - monthly14-20.tif\n",
      "73 - monthly15-20.tif\n",
      "74 - monthly16-20.tif\n",
      "75 - monthly17-20.tif\n",
      "76 - monthly18-20.tif\n",
      "77 - monthly19-20.tif\n",
      "78 - monthly20-20.tif\n",
      "79 - monthly21-20.tif\n",
      "80 - monthly22-20.tif\n",
      "81 - monthly23-20.tif\n",
      "82 - monthly24-20.tif\n",
      "0...10...20...30...40...50...60...70...80...90...100 - done.\n"
     ]
    }
   ],
   "source": [
    "no_data_value = 0\n",
    "v_cells_data = ogr.Open(str(cells_path))\n",
    "l_cells_data = v_cells_data.GetLayer()\n",
    "x_res = 25000\n",
    "y_res = 25000\n",
    "x_min, x_max, y_min, y_max = l_cells_data.GetExtent()\n",
    "ignore_idx = np.arange(10)\n",
    "list_files = []\n",
    "count = 0\n",
    "for i, attr in enumerate(sorted_attr_dict):\n",
    "    if i in ignore_idx:\n",
    "        continue\n",
    "    count +=1\n",
    "    month = float(sorted_attr_dict[attr][6:8])\n",
    "    num = (month * 2) - 1\n",
    "    if int(sorted_attr_dict[attr][4:6])> 1 :\n",
    "        num += 1\n",
    "    value = num/24\n",
    "    target_ds = gdal.Rasterize(\n",
    "        str(tiff_path / f'monthly{int(num)}-{sorted_attr_dict[attr][8:]}.tif'),\n",
    "        str(cells_path),\n",
    "        xRes = x_res,\n",
    "        yRes = y_res,\n",
    "        burnValues = [value],\n",
    "        outputBounds=[x_min, y_min, x_max, y_max],\n",
    "        noData = no_data_value,\n",
    "        outputType=gdal.GDT_Float32\n",
    "    )\n",
    "    list_files.append(str(tiff_path / f'monthly{int(num)}-{sorted_attr_dict[attr][8:]}.tif'))\n",
    "    target_ds = None\n",
    "\n",
    "    print(f'{count:02d} - monthly{int(num)}-{sorted_attr_dict[attr][8:]}.tif')\n",
    "\n",
    "parameters = ['', '-separate', '-a_nodata', f'{no_data_value}', '-o', 'data/tiff/monthly.tif'] + list_files\n",
    "gdal_merge.main(parameters)"
   ]
  },
  {
   "cell_type": "code",
   "execution_count": null,
   "metadata": {},
   "outputs": [],
   "source": []
  }
 ],
 "metadata": {
  "kernelspec": {
   "display_name": "ferrari",
   "language": "python",
   "name": "python3"
  },
  "language_info": {
   "codemirror_mode": {
    "name": "ipython",
    "version": 3
   },
   "file_extension": ".py",
   "mimetype": "text/x-python",
   "name": "python",
   "nbconvert_exporter": "python",
   "pygments_lexer": "ipython3",
   "version": "3.9.18"
  }
 },
 "nbformat": 4,
 "nbformat_minor": 2
}
