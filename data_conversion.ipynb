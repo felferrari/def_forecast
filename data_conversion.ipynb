{
 "cells": [
  {
   "cell_type": "markdown",
   "metadata": {},
   "source": [
    "## Importing"
   ]
  },
  {
   "cell_type": "code",
   "execution_count": 45,
   "metadata": {},
   "outputs": [],
   "source": [
    "import fiona\n",
    "from pathlib import Path\n",
    "import pandas as pd\n",
    "from osgeo import ogr, gdal, gdalconst, osr\n",
    "from osgeo_utils import gdal_merge"
   ]
  },
  {
   "cell_type": "markdown",
   "metadata": {},
   "source": [
    "## Paths"
   ]
  },
  {
   "cell_type": "code",
   "execution_count": 2,
   "metadata": {},
   "outputs": [],
   "source": [
    "cells_path = Path(r'data/shp/amz_25km_attr_quin_2.shp')\n",
    "desc_path = Path(r'data/shp/descricao_atributos.xlsx')\n",
    "\n",
    "tiff_path = Path(r'data/tiff')"
   ]
  },
  {
   "cell_type": "markdown",
   "metadata": {},
   "source": [
    "## Opening files"
   ]
  },
  {
   "cell_type": "code",
   "execution_count": 10,
   "metadata": {},
   "outputs": [],
   "source": [
    "col = fiona.open(cells_path)\n",
    "desc = pd.read_excel(desc_path)"
   ]
  },
  {
   "cell_type": "markdown",
   "metadata": {},
   "source": [
    "# ARCs Data"
   ]
  },
  {
   "cell_type": "markdown",
   "metadata": {},
   "source": [
    "## Rearranging date information"
   ]
  },
  {
   "cell_type": "code",
   "execution_count": 70,
   "metadata": {},
   "outputs": [],
   "source": [
    "attr_dict = {f'{att[0:4]}{att[8:]}{att[6:8]}{att[4:6]}':att for att in desc['Atributo'] if str(att).startswith('ArCS')}\n",
    "sorted_attr_dict = dict(sorted(attr_dict.items()))"
   ]
  },
  {
   "cell_type": "markdown",
   "metadata": {},
   "source": [
    "## Generating Files"
   ]
  },
  {
   "cell_type": "code",
   "execution_count": 71,
   "metadata": {},
   "outputs": [
    {
     "name": "stdout",
     "output_type": "stream",
     "text": [
      "0...10...20...30...40...50...60...70...80...90...100 - done.\n"
     ]
    }
   ],
   "source": [
    "v_cells_data = ogr.Open(str(cells_path))\n",
    "l_cells_data = v_cells_data.GetLayer()\n",
    "x_res = 25000\n",
    "y_res = 25000\n",
    "x_min, x_max, y_min, y_max = l_cells_data.GetExtent()\n",
    "\n",
    "list_files = []\n",
    "for attr in sorted_attr_dict:\n",
    "    target_ds = gdal.Rasterize(\n",
    "        str(tiff_path / f'{sorted_attr_dict[attr]}.tif'),\n",
    "        str(cells_path),\n",
    "        xRes = x_res,\n",
    "        yRes = y_res,\n",
    "        attribute  = sorted_attr_dict[attr],\n",
    "        outputBounds=[x_min, y_min, x_max, y_max],\n",
    "        noData = -3.40282e+38,\n",
    "        outputType=gdal.GDT_Float32\n",
    "    )\n",
    "    list_files.append(str(tiff_path / f'{sorted_attr_dict[attr]}.tif'))\n",
    "    target_ds = None\n",
    "\n",
    "parameters = ['', '-separate', '-a_nodata', '-3.40282e+38', '-o', 'data/tiff/ArCS.tif'] + list_files\n",
    "gdal_merge.main(parameters)\n"
   ]
  },
  {
   "cell_type": "markdown",
   "metadata": {},
   "source": [
    "# DeAr Data"
   ]
  },
  {
   "cell_type": "markdown",
   "metadata": {},
   "source": [
    "## Rearranging date information\n"
   ]
  },
  {
   "cell_type": "code",
   "execution_count": 72,
   "metadata": {},
   "outputs": [],
   "source": [
    "attr_dict = {f'{att[0:4]}{att[8:]}{att[6:8]}{att[4:6]}':att for att in desc['Atributo'] if str(att).startswith('DeAr')}\n",
    "sorted_attr_dict = dict(sorted(attr_dict.items()))"
   ]
  },
  {
   "cell_type": "markdown",
   "metadata": {},
   "source": [
    "## Generating Files"
   ]
  },
  {
   "cell_type": "code",
   "execution_count": 73,
   "metadata": {},
   "outputs": [
    {
     "name": "stdout",
     "output_type": "stream",
     "text": [
      "0...10...20...30...40...50...60...70...80...90...100 - done.\n"
     ]
    }
   ],
   "source": [
    "v_cells_data = ogr.Open(str(cells_path))\n",
    "l_cells_data = v_cells_data.GetLayer()\n",
    "x_res = 25000\n",
    "y_res = 25000\n",
    "x_min, x_max, y_min, y_max = l_cells_data.GetExtent()\n",
    "\n",
    "list_files = []\n",
    "for attr in sorted_attr_dict:\n",
    "    target_ds = gdal.Rasterize(\n",
    "        str(tiff_path / f'{sorted_attr_dict[attr]}.tif'),\n",
    "        str(cells_path),\n",
    "        xRes = x_res,\n",
    "        yRes = y_res,\n",
    "        attribute  = sorted_attr_dict[attr],\n",
    "        outputBounds=[x_min, y_min, x_max, y_max],\n",
    "        noData = -3.40282e+38,\n",
    "        outputType=gdal.GDT_Float32\n",
    "    )\n",
    "    list_files.append(str(tiff_path / f'{sorted_attr_dict[attr]}.tif'))\n",
    "    target_ds = None\n",
    "\n",
    "parameters = ['', '-separate', '-a_nodata', '-3.40282e+38', '-o', 'data/tiff/DeAr.tif'] + list_files\n",
    "gdal_merge.main(parameters)\n"
   ]
  },
  {
   "cell_type": "code",
   "execution_count": null,
   "metadata": {},
   "outputs": [],
   "source": []
  }
 ],
 "metadata": {
  "kernelspec": {
   "display_name": "ferrari",
   "language": "python",
   "name": "python3"
  },
  "language_info": {
   "codemirror_mode": {
    "name": "ipython",
    "version": 3
   },
   "file_extension": ".py",
   "mimetype": "text/x-python",
   "name": "python",
   "nbconvert_exporter": "python",
   "pygments_lexer": "ipython3",
   "version": "3.9.18"
  }
 },
 "nbformat": 4,
 "nbformat_minor": 2
}
