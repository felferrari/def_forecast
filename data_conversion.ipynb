{
 "cells": [
  {
   "cell_type": "markdown",
   "metadata": {},
   "source": [
    "## Importing"
   ]
  },
  {
   "cell_type": "code",
   "execution_count": 27,
   "metadata": {},
   "outputs": [],
   "source": [
    "import fiona\n",
    "from pathlib import Path\n",
    "import pandas as pd\n",
    "from osgeo import ogr, gdal, gdalconst, osr\n",
    "from osgeo_utils import gdal_merge"
   ]
  },
  {
   "cell_type": "code",
   "execution_count": 28,
   "metadata": {},
   "outputs": [],
   "source": [
    "no_data_value = 0"
   ]
  },
  {
   "cell_type": "markdown",
   "metadata": {},
   "source": [
    "## Paths"
   ]
  },
  {
   "cell_type": "code",
   "execution_count": 29,
   "metadata": {},
   "outputs": [],
   "source": [
    "cells_path = Path(r'data/shp/amz_25km_attr_quin_2.shp')\n",
    "desc_path = Path(r'data/shp/descricao_atributos.xlsx')\n",
    "\n",
    "tiff_path = Path(r'data/tiff')"
   ]
  },
  {
   "cell_type": "markdown",
   "metadata": {},
   "source": [
    "## Opening files"
   ]
  },
  {
   "cell_type": "code",
   "execution_count": 30,
   "metadata": {},
   "outputs": [],
   "source": [
    "col = fiona.open(cells_path)"
   ]
  },
  {
   "cell_type": "markdown",
   "metadata": {},
   "source": [
    "# Mask data"
   ]
  },
  {
   "cell_type": "code",
   "execution_count": 31,
   "metadata": {},
   "outputs": [],
   "source": [
    "v_cells_data = ogr.Open(str(cells_path))\n",
    "l_cells_data = v_cells_data.GetLayer()\n",
    "x_res = 25000\n",
    "y_res = 25000\n",
    "x_min, x_max, y_min, y_max = l_cells_data.GetExtent()\n",
    "\n",
    "target_ds = gdal.Rasterize(\n",
    "    str(tiff_path / f'mask.tif'),\n",
    "    str(cells_path),\n",
    "    xRes = x_res,\n",
    "    yRes = y_res,\n",
    "    burnValues  = [1],\n",
    "    outputBounds=[x_min, y_min, x_max, y_max],\n",
    "    initValues  = [0],\n",
    "    outputType=gdal.GDT_Byte\n",
    ")\n",
    "target_ds = None"
   ]
  },
  {
   "cell_type": "markdown",
   "metadata": {},
   "source": [
    "# ArCS Data"
   ]
  },
  {
   "cell_type": "markdown",
   "metadata": {},
   "source": [
    "## Rearranging date information"
   ]
  },
  {
   "cell_type": "code",
   "execution_count": 32,
   "metadata": {},
   "outputs": [],
   "source": [
    "attr_dict = {f'{att[0:4]}{att[8:]}{att[6:8]}{att[4:6]}':att for att in col.schema['properties'].keys() if str(att).startswith('ArCS')}\n",
    "sorted_attr_dict = dict(sorted(attr_dict.items()))"
   ]
  },
  {
   "cell_type": "markdown",
   "metadata": {},
   "source": [
    "## Generating Files"
   ]
  },
  {
   "cell_type": "code",
   "execution_count": 33,
   "metadata": {},
   "outputs": [
    {
     "name": "stdout",
     "output_type": "stream",
     "text": [
      "01 - ArCS010317\n",
      "02 - ArCS160317\n",
      "03 - ArCS010417\n",
      "04 - ArCS160417\n",
      "05 - ArCS010517\n",
      "06 - ArCS160517\n",
      "07 - ArCS010617\n",
      "08 - ArCS160617\n",
      "09 - ArCS010717\n",
      "10 - ArCS160717\n",
      "11 - ArCS010817\n",
      "12 - ArCS160817\n",
      "13 - ArCS010917\n",
      "14 - ArCS160917\n",
      "15 - ArCS011017\n",
      "16 - ArCS161017\n",
      "17 - ArCS011117\n",
      "18 - ArCS161117\n",
      "19 - ArCS011217\n",
      "20 - ArCS161217\n",
      "21 - ArCS010118\n",
      "22 - ArCS160118\n",
      "23 - ArCS010218\n",
      "24 - ArCS160218\n",
      "25 - ArCS010318\n",
      "26 - ArCS160318\n",
      "27 - ArCS010418\n",
      "28 - ArCS160418\n",
      "29 - ArCS010518\n",
      "30 - ArCS160518\n",
      "31 - ArCS010618\n",
      "32 - ArCS160618\n",
      "33 - ArCS010718\n",
      "34 - ArCS160718\n",
      "35 - ArCS010818\n",
      "36 - ArCS160818\n",
      "37 - ArCS010918\n",
      "38 - ArCS160918\n",
      "39 - ArCS011018\n",
      "40 - ArCS161018\n",
      "41 - ArCS011118\n",
      "42 - ArCS161118\n",
      "43 - ArCS011218\n",
      "44 - ArCS161218\n",
      "45 - ArCS010119\n",
      "46 - ArCS160119\n",
      "47 - ArCS010219\n",
      "48 - ArCS160219\n",
      "49 - ArCS010319\n",
      "50 - ArCS160319\n",
      "51 - ArCS010419\n",
      "52 - ArCS160419\n",
      "53 - ArCS010519\n",
      "54 - ArCS160519\n",
      "55 - ArCS010619\n",
      "56 - ArCS160619\n",
      "57 - ArCS010719\n",
      "58 - ArCS160719\n",
      "59 - ArCS010819\n",
      "60 - ArCS160819\n",
      "61 - ArCS010919\n",
      "62 - ArCS160919\n",
      "63 - ArCS011019\n",
      "64 - ArCS161019\n",
      "65 - ArCS011119\n",
      "66 - ArCS161119\n",
      "67 - ArCS011219\n",
      "68 - ArCS161219\n",
      "69 - ArCS010120\n",
      "70 - ArCS160120\n",
      "71 - ArCS010220\n",
      "72 - ArCS160220\n",
      "73 - ArCS010320\n",
      "74 - ArCS160320\n",
      "75 - ArCS010420\n",
      "76 - ArCS160420\n",
      "77 - ArCS010520\n",
      "78 - ArCS160520\n",
      "79 - ArCS010620\n",
      "80 - ArCS160620\n",
      "81 - ArCS010720\n",
      "82 - ArCS160720\n",
      "83 - ArCS010820\n",
      "84 - ArCS160820\n",
      "85 - ArCS010920\n",
      "86 - ArCS160920\n",
      "87 - ArCS011020\n",
      "88 - ArCS161020\n",
      "89 - ArCS011120\n",
      "90 - ArCS161120\n",
      "91 - ArCS011220\n",
      "92 - ArCS161220\n",
      "0...10...20...30...40...50...60...70...80...90...100 - done.\n"
     ]
    }
   ],
   "source": [
    "v_cells_data = ogr.Open(str(cells_path))\n",
    "l_cells_data = v_cells_data.GetLayer()\n",
    "x_res = 25000\n",
    "y_res = 25000\n",
    "x_min, x_max, y_min, y_max = l_cells_data.GetExtent()\n",
    "\n",
    "list_files = []\n",
    "for i, attr in enumerate(sorted_attr_dict):\n",
    "    target_ds = gdal.Rasterize(\n",
    "        str(tiff_path / f'{sorted_attr_dict[attr]}.tif'),\n",
    "        str(cells_path),\n",
    "        xRes = x_res,\n",
    "        yRes = y_res,\n",
    "        attribute  = sorted_attr_dict[attr],\n",
    "        outputBounds=[x_min, y_min, x_max, y_max],\n",
    "        noData = no_data_value,\n",
    "        outputType=gdal.GDT_Float32\n",
    "    )\n",
    "    list_files.append(str(tiff_path / f'{sorted_attr_dict[attr]}.tif'))\n",
    "    target_ds = None\n",
    "    print(f'{i+1:02d} - {sorted_attr_dict[attr]}')\n",
    "\n",
    "parameters = ['', '-separate', '-a_nodata', f'{no_data_value}', '-o', 'data/tiff/ArCS.tif'] + list_files\n",
    "gdal_merge.main(parameters)\n",
    "\n"
   ]
  },
  {
   "cell_type": "markdown",
   "metadata": {},
   "source": [
    "# DeAr Data"
   ]
  },
  {
   "cell_type": "markdown",
   "metadata": {},
   "source": [
    "## Rearranging date information\n"
   ]
  },
  {
   "cell_type": "code",
   "execution_count": 34,
   "metadata": {},
   "outputs": [],
   "source": [
    "attr_dict = {f'{att[0:4]}{att[8:]}{att[6:8]}{att[4:6]}':att for att in col.schema['properties'].keys() if str(att).startswith('DeAr')}\n",
    "sorted_attr_dict = dict(sorted(attr_dict.items()))"
   ]
  },
  {
   "cell_type": "markdown",
   "metadata": {},
   "source": [
    "## Generating Files"
   ]
  },
  {
   "cell_type": "code",
   "execution_count": 35,
   "metadata": {},
   "outputs": [
    {
     "name": "stdout",
     "output_type": "stream",
     "text": [
      "01 - DeAr160317\n",
      "02 - DeAr010417\n",
      "03 - DeAr160417\n",
      "04 - DeAr010517\n",
      "05 - DeAr160517\n",
      "06 - DeAr010617\n",
      "07 - DeAr160617\n",
      "08 - DeAr010717\n",
      "09 - DeAr160717\n",
      "10 - DeAr010817\n",
      "11 - DeAr160817\n",
      "12 - DeAr010917\n",
      "13 - DeAr160917\n",
      "14 - DeAr011017\n",
      "15 - DeAr161017\n",
      "16 - DeAr011117\n",
      "17 - DeAr161117\n",
      "18 - DeAr011217\n",
      "19 - DeAr161217\n",
      "20 - DeAr160118\n",
      "21 - DeAr010218\n",
      "22 - DeAr160218\n",
      "23 - DeAr010318\n",
      "24 - DeAr160318\n",
      "25 - DeAr010418\n",
      "26 - DeAr160418\n",
      "27 - DeAr010518\n",
      "28 - DeAr160518\n",
      "29 - DeAr010618\n",
      "30 - DeAr160618\n",
      "31 - DeAr010718\n",
      "32 - DeAr160718\n",
      "33 - DeAr010818\n",
      "34 - DeAr160818\n",
      "35 - DeAr010918\n",
      "36 - DeAr160918\n",
      "37 - DeAr011018\n",
      "38 - DeAr161018\n",
      "39 - DeAr011118\n",
      "40 - DeAr161118\n",
      "41 - DeAr011218\n",
      "42 - DeAr161218\n",
      "43 - DeAr160119\n",
      "44 - DeAr010219\n",
      "45 - DeAr160219\n",
      "46 - DeAr010319\n",
      "47 - DeAr160319\n",
      "48 - DeAr010419\n",
      "49 - DeAr160419\n",
      "50 - DeAr010519\n",
      "51 - DeAr160519\n",
      "52 - DeAr010619\n",
      "53 - DeAr160619\n",
      "54 - DeAr010719\n",
      "55 - DeAr160719\n",
      "56 - DeAr010819\n",
      "57 - DeAr160819\n",
      "58 - DeAr010919\n",
      "59 - DeAr160919\n",
      "60 - DeAr011019\n",
      "61 - DeAr161019\n",
      "62 - DeAr011119\n",
      "63 - DeAr161119\n",
      "64 - DeAr011219\n",
      "65 - DeAr161219\n",
      "66 - DeAr160120\n",
      "67 - DeAr010220\n",
      "68 - DeAr160220\n",
      "69 - DeAr010320\n",
      "70 - DeAr160320\n",
      "71 - DeAr010420\n",
      "72 - DeAr160420\n",
      "73 - DeAr010520\n",
      "74 - DeAr160520\n",
      "75 - DeAr010620\n",
      "76 - DeAr160620\n",
      "77 - DeAr010720\n",
      "78 - DeAr160720\n",
      "79 - DeAr010820\n",
      "80 - DeAr160820\n",
      "81 - DeAr010920\n",
      "82 - DeAr160920\n",
      "83 - DeAr011020\n",
      "84 - DeAr161020\n",
      "85 - DeAr011120\n",
      "86 - DeAr161120\n",
      "87 - DeAr011220\n",
      "88 - DeAr161220\n",
      "0...10...20...30...40...50...60...70...80...90...100 - done.\n"
     ]
    }
   ],
   "source": [
    "v_cells_data = ogr.Open(str(cells_path))\n",
    "l_cells_data = v_cells_data.GetLayer()\n",
    "x_res = 25000\n",
    "y_res = 25000\n",
    "x_min, x_max, y_min, y_max = l_cells_data.GetExtent()\n",
    "\n",
    "list_files = []\n",
    "for i, attr in enumerate(sorted_attr_dict):\n",
    "    target_ds = gdal.Rasterize(\n",
    "        str(tiff_path / f'{sorted_attr_dict[attr]}.tif'),\n",
    "        str(cells_path),\n",
    "        xRes = x_res,\n",
    "        yRes = y_res,\n",
    "        attribute  = sorted_attr_dict[attr],\n",
    "        outputBounds=[x_min, y_min, x_max, y_max],\n",
    "        noData = no_data_value,\n",
    "        outputType=gdal.GDT_Float32\n",
    "    )\n",
    "    list_files.append(str(tiff_path / f'{sorted_attr_dict[attr]}.tif'))\n",
    "    target_ds = None\n",
    "    print(f'{i+1:02d} - {sorted_attr_dict[attr]}')\n",
    "\n",
    "parameters = ['', '-separate', '-a_nodata', f'{no_data_value}', '-o', 'data/tiff/DeAr.tif'] + list_files\n",
    "gdal_merge.main(parameters)\n",
    "\n"
   ]
  },
  {
   "cell_type": "code",
   "execution_count": null,
   "metadata": {},
   "outputs": [],
   "source": []
  }
 ],
 "metadata": {
  "kernelspec": {
   "display_name": "ferrari",
   "language": "python",
   "name": "python3"
  },
  "language_info": {
   "codemirror_mode": {
    "name": "ipython",
    "version": 3
   },
   "file_extension": ".py",
   "mimetype": "text/x-python",
   "name": "python",
   "nbconvert_exporter": "python",
   "pygments_lexer": "ipython3",
   "version": "3.9.18"
  }
 },
 "nbformat": 4,
 "nbformat_minor": 2
}
