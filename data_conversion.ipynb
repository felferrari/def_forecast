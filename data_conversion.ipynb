{
 "cells": [
  {
   "cell_type": "markdown",
   "metadata": {},
   "source": [
    "## Importing"
   ]
  },
  {
   "cell_type": "code",
   "execution_count": 1,
   "metadata": {},
   "outputs": [],
   "source": [
    "import fiona\n",
    "from pathlib import Path\n",
    "import pandas as pd\n",
    "from osgeo import ogr, gdal, gdalconst, osr\n",
    "from osgeo_utils import gdal_merge\n",
    "import numpy as np\n"
   ]
  },
  {
   "cell_type": "markdown",
   "metadata": {},
   "source": [
    "## Paths"
   ]
  },
  {
   "cell_type": "code",
   "execution_count": 2,
   "metadata": {},
   "outputs": [
    {
     "name": "stdout",
     "output_type": "stream",
     "text": [
      "XQ_bd_amz_25km.shp\n",
      "Dist_bd_amz_25km.shp\n",
      "XArDS_bd_amz_25km.shp\n",
      "DeAr_bd_amz_25km.shp\n",
      "XDeDS_bd_amz_25km.shp\n",
      "ArDS_bd_amz_25km.shp\n",
      "DS_bd_amz_25km.shp\n",
      "AcAr_bd_amz_25km.shp\n",
      "Dvd_bd_amz_25km.shp\n",
      "CtDS_bd_amz_25km.shp\n",
      "DryMonths_bd_amz_25km.shp\n",
      "Nuvem_bd_amz_25km.shp\n",
      "EF_bd_amz_25km.shp\n",
      "OcDS_bd_amz_25km.shp\n"
     ]
    }
   ],
   "source": [
    "tiff_path = Path(r'data/tiff')\n",
    "shp_path = Path(r'data/shp')\n",
    "for f in shp_path.glob('*.shp'):\n",
    "    print(f.name)"
   ]
  },
  {
   "cell_type": "markdown",
   "metadata": {},
   "source": [
    "## Define Biweekly data"
   ]
  },
  {
   "cell_type": "code",
   "execution_count": 3,
   "metadata": {},
   "outputs": [],
   "source": [
    "mask = Path(r'data/shp/ArDS_bd_amz_25km.shp')\n",
    "biweekly = {\n",
    "    'ArDS': Path(r'data/shp/ArDS_bd_amz_25km.shp'),\n",
    "    'OcDS': Path(r'data/shp/OcDS_bd_amz_25km.shp'),\n",
    "    'CtDS': Path(r'data/shp/CtDS_bd_amz_25km.shp'),\n",
    "    'DeAr': Path(r'data/shp/DeAr_bd_amz_25km.shp'),\n",
    "    'AcAr': Path(r'data/shp/AcAr_bd_amz_25km.shp'),\n",
    "    'XQ': Path(r'data/shp/XQ_bd_amz_25km.shp'),\n",
    "    'nv': Path(r'data/shp/Nuvem_bd_amz_25km.shp'),\n",
    "}\n",
    "quartely = {\n",
    "    'DS': Path(r'data/shp/DS_bd_amz_25km.shp'),\n",
    "    'XArDS': Path(r'data/shp/XArDS_bd_amz_25km.shp'),\n",
    "    'XDeDS': Path(r'data/shp/XDeDS_bd_amz_25km.shp'),\n",
    "}\n",
    "fixed = {\n",
    "    'Dist': Path(r'data/shp/Dist_bd_amz_25km.shp'),\n",
    "    'EF': Path(r'data/shp/EF_bd_amz_25km.shp'),\n",
    "    'DryMonths': Path(r'data/shp/DryMonths_bd_amz_25km.shp'),\n",
    "    'Dvd': Path(r'data/shp/Dvd_bd_amz_25km.shp'),\n",
    "}"
   ]
  },
  {
   "cell_type": "markdown",
   "metadata": {},
   "source": [
    "## Mask data"
   ]
  },
  {
   "cell_type": "code",
   "execution_count": 47,
   "metadata": {},
   "outputs": [],
   "source": [
    "cells_path = mask\n",
    "v_cells_data = ogr.Open(str(cells_path))\n",
    "l_cells_data = v_cells_data.GetLayer()\n",
    "x_res = 25000\n",
    "y_res = 25000\n",
    "x_min, x_max, y_min, y_max = l_cells_data.GetExtent()\n",
    "\n",
    "target_ds = gdal.Rasterize(\n",
    "    str(tiff_path / f'mask.tif'),\n",
    "    str(cells_path),\n",
    "    xRes = x_res,\n",
    "    yRes = y_res,\n",
    "    burnValues  = [1],\n",
    "    outputBounds=[x_min, y_min, x_max, y_max],\n",
    "    initValues  = [0],\n",
    "    outputType=gdal.GDT_Byte\n",
    ")\n",
    "target_ds = None"
   ]
  },
  {
   "cell_type": "markdown",
   "metadata": {},
   "source": [
    "## Coordinates Map"
   ]
  },
  {
   "cell_type": "code",
   "execution_count": 5,
   "metadata": {},
   "outputs": [
    {
     "name": "stdout",
     "output_type": "stream",
     "text": [
      "0...10...20...30...40...50...60...70...80...90...100 - done.\n"
     ]
    }
   ],
   "source": [
    "cells_path = mask\n",
    "col = fiona.open(cells_path)\n",
    "attr_dict = {att:att for att in col.schema['properties'].keys() if str(att) in ['col', 'row']}\n",
    "sorted_attr_dict = dict(sorted(attr_dict.items()))\n",
    "    \n",
    "no_data_value = -1\n",
    "v_cells_data = ogr.Open(str(cells_path))\n",
    "l_cells_data = v_cells_data.GetLayer()\n",
    "x_res = 25000\n",
    "y_res = 25000\n",
    "x_min, x_max, y_min, y_max = l_cells_data.GetExtent()\n",
    "\n",
    "count = 0\n",
    "list_files = []\n",
    "for i, attr in enumerate(sorted_attr_dict):\n",
    "    #if i < 10:\n",
    "    #    continue\n",
    "    count +=1\n",
    "    target_ds = gdal.Rasterize(\n",
    "        str(tiff_path / f'{sorted_attr_dict[attr]}.tif'),\n",
    "        str(cells_path),\n",
    "        xRes = x_res,\n",
    "        yRes = y_res,\n",
    "        attribute  = sorted_attr_dict[attr],\n",
    "        outputBounds=[x_min, y_min, x_max, y_max],\n",
    "        noData = no_data_value,\n",
    "        outputType=gdal.GDT_Float32\n",
    "    )\n",
    "    list_files.append(str(tiff_path / f'{sorted_attr_dict[attr]}.tif'))\n",
    "    target_ds = None\n",
    "    #print(f'{count:02d} - {sorted_attr_dict[attr]}')\n",
    "\n",
    "parameters = ['', '-separate', '-a_nodata', f'{no_data_value}', '-o', f'data/tiff/Coordinates.tif'] + list_files\n",
    "gdal_merge.main(parameters)\n",
    "for f in list_files:\n",
    "    fp = Path(f)\n",
    "    fp.unlink()\n"
   ]
  },
  {
   "cell_type": "markdown",
   "metadata": {},
   "source": [
    "## Biweekly Number"
   ]
  },
  {
   "cell_type": "code",
   "execution_count": 9,
   "metadata": {},
   "outputs": [
    {
     "name": "stdout",
     "output_type": "stream",
     "text": [
      "0...10...20...30...40...50...60...70...80...90...100 - done.\n"
     ]
    }
   ],
   "source": [
    "cells_path = mask\n",
    "col = fiona.open(cells_path)\n",
    "attr_dict = {f'{att[-2:]}{att[-4:-2]}{att[-6:-4]}':att for att in col.schema['properties'].keys() if str(att).startswith('ArDS')}\n",
    "sorted_attr_dict = dict(sorted(attr_dict.items()))\n",
    "    \n",
    "no_data_value = 0\n",
    "v_cells_data = ogr.Open(str(cells_path))\n",
    "l_cells_data = v_cells_data.GetLayer()\n",
    "x_res = 25000\n",
    "y_res = 25000\n",
    "x_min, x_max, y_min, y_max = l_cells_data.GetExtent()\n",
    "\n",
    "count = 0\n",
    "list_files = []\n",
    "for i, attr in enumerate(sorted_attr_dict):\n",
    "    #if i < 10:\n",
    "    #    continue\n",
    "    day = int(sorted_attr_dict[attr][-6:-4])\n",
    "    month = int(sorted_attr_dict[attr][-4:-2])\n",
    "    value = (month) / 12\n",
    "    if day==1:\n",
    "        value -= (1 / 24)\n",
    "    count +=1\n",
    "    target_ds = gdal.Rasterize(\n",
    "        str(tiff_path / f'{sorted_attr_dict[attr]}.tif'),\n",
    "        str(cells_path),\n",
    "        xRes = x_res,\n",
    "        yRes = y_res,\n",
    "        burnValues  = [value],\n",
    "        outputBounds=[x_min, y_min, x_max, y_max],\n",
    "        noData = no_data_value,\n",
    "        outputType=gdal.GDT_Float32\n",
    "    )\n",
    "    list_files.append(str(tiff_path / f'{sorted_attr_dict[attr]}.tif'))\n",
    "    target_ds = None\n",
    "    #print(f'{count:02d} - {sorted_attr_dict[attr]}')\n",
    "\n",
    "parameters = ['', '-separate', '-a_nodata', f'{no_data_value}', '-o', f'data/tiff/Biweekly.tif'] + list_files\n",
    "gdal_merge.main(parameters)\n",
    "for f in list_files:\n",
    "    fp = Path(f)\n",
    "    fp.unlink()\n"
   ]
  },
  {
   "cell_type": "markdown",
   "metadata": {},
   "source": [
    "## Biweekly Data"
   ]
  },
  {
   "cell_type": "code",
   "execution_count": 49,
   "metadata": {},
   "outputs": [
    {
     "name": "stdout",
     "output_type": "stream",
     "text": [
      "0...10...20...30...40...50...60...70...80...90...100 - done.\n",
      "0...10...20...30...40...50...60...70...80...90...100 - done.\n",
      "0...10...20...30...40...50...60...70...80...90...100 - done.\n",
      "0...10...20...30...40...50...60...70...80...90...100 - done.\n",
      "0...10...20...30...40...50...60...70...80...90...100 - done.\n",
      "0...10...20...30...40...50...60...70...80...90...100 - done.\n",
      "0...10...20...30...40...50...60...70...80...90...100 - done.\n"
     ]
    }
   ],
   "source": [
    "for data_att in biweekly:\n",
    "    cells_path = biweekly[data_att]\n",
    "    col = fiona.open(cells_path)\n",
    "    att_len = len(data_att)\n",
    "    attr_dict = {f'{att[-2:]}{att[-4:-2]}{att[-6:-4]}':att for att in col.schema['properties'].keys() if str(att).startswith(data_att)}\n",
    "    sorted_attr_dict = dict(sorted(attr_dict.items()))\n",
    "    if len(sorted_attr_dict) == 0:\n",
    "        print(data_att)\n",
    "        \n",
    "    no_data_value = 0\n",
    "    v_cells_data = ogr.Open(str(cells_path))\n",
    "    l_cells_data = v_cells_data.GetLayer()\n",
    "    x_res = 25000\n",
    "    y_res = 25000\n",
    "    x_min, x_max, y_min, y_max = l_cells_data.GetExtent()\n",
    "\n",
    "    count = 0\n",
    "    list_files = []\n",
    "    for i, attr in enumerate(sorted_attr_dict):\n",
    "        #if i < 10:\n",
    "        #    continue\n",
    "        count +=1\n",
    "        target_ds = gdal.Rasterize(\n",
    "            str(tiff_path / f'{sorted_attr_dict[attr]}.tif'),\n",
    "            str(cells_path),\n",
    "            xRes = x_res,\n",
    "            yRes = y_res,\n",
    "            attribute  = sorted_attr_dict[attr],\n",
    "            outputBounds=[x_min, y_min, x_max, y_max],\n",
    "            noData = no_data_value,\n",
    "            outputType=gdal.GDT_Float32\n",
    "        )\n",
    "        list_files.append(str(tiff_path / f'{sorted_attr_dict[attr]}.tif'))\n",
    "        target_ds = None\n",
    "        #print(f'{count:02d} - {sorted_attr_dict[attr]}')\n",
    "\n",
    "    parameters = ['', '-separate', '-a_nodata', f'{no_data_value}', '-o', f'data/tiff/{data_att}.tif'] + list_files\n",
    "    gdal_merge.main(parameters)\n",
    "    for f in list_files:\n",
    "        fp = Path(f)\n",
    "        fp.unlink()\n",
    "\n"
   ]
  },
  {
   "cell_type": "markdown",
   "metadata": {},
   "source": [
    "## Quaterly data"
   ]
  },
  {
   "cell_type": "code",
   "execution_count": 50,
   "metadata": {},
   "outputs": [
    {
     "name": "stdout",
     "output_type": "stream",
     "text": [
      "0...10...20...30...40...50...60...70...80...90...100 - done.\n",
      "0...10...20...30...40...50...60...70...80...90...100 - done.\n",
      "0...10...20...30...40...50...60...70...80...90...100 - done.\n"
     ]
    }
   ],
   "source": [
    "for data_att in quartely:\n",
    "    cells_path = quartely[data_att]\n",
    "    col = fiona.open(cells_path)\n",
    "    att_len = len(data_att)\n",
    "    attr_dict = {f'{att[-2:]}{att[-4:-2]}':att for att in col.schema['properties'].keys() if str(att).startswith(data_att)}\n",
    "    sorted_attr_dict = dict(sorted(attr_dict.items()))\n",
    "    if len(sorted_attr_dict) == 0:\n",
    "        print(data_att)\n",
    "        \n",
    "    no_data_value = 0\n",
    "    v_cells_data = ogr.Open(str(cells_path))\n",
    "    l_cells_data = v_cells_data.GetLayer()\n",
    "    x_res = 25000\n",
    "    y_res = 25000\n",
    "    x_min, x_max, y_min, y_max = l_cells_data.GetExtent()\n",
    "\n",
    "    count = 0\n",
    "    list_files = []\n",
    "    for i, attr in enumerate(sorted_attr_dict):\n",
    "        #if i < 10:\n",
    "        #    continue\n",
    "        count +=1\n",
    "        target_ds = gdal.Rasterize(\n",
    "            str(tiff_path / f'{sorted_attr_dict[attr]}.tif'),\n",
    "            str(cells_path),\n",
    "            xRes = x_res,\n",
    "            yRes = y_res,\n",
    "            attribute  = sorted_attr_dict[attr],\n",
    "            outputBounds=[x_min, y_min, x_max, y_max],\n",
    "            noData = no_data_value,\n",
    "            outputType=gdal.GDT_Float32\n",
    "        )\n",
    "        list_files.append(str(tiff_path / f'{sorted_attr_dict[attr]}.tif'))\n",
    "        target_ds = None\n",
    "        #print(f'{count:02d} - {sorted_attr_dict[attr]}')\n",
    "\n",
    "    parameters = ['', '-separate', '-a_nodata', f'{no_data_value}', '-o', f'data/tiff/{data_att}.tif'] + list_files\n",
    "    gdal_merge.main(parameters)\n",
    "    for f in list_files:\n",
    "        fp = Path(f)\n",
    "        fp.unlink()\n"
   ]
  },
  {
   "cell_type": "markdown",
   "metadata": {},
   "source": [
    "## Fixed Data"
   ]
  },
  {
   "cell_type": "code",
   "execution_count": 51,
   "metadata": {},
   "outputs": [
    {
     "name": "stdout",
     "output_type": "stream",
     "text": [
      "0...10...20...30...40...50...60...70...80...90...100 - done.\n",
      "0...10...20...30...40...50...60...70...80...90...100 - done.\n",
      "0...10...20...30...40...50...60...70...80...90...100 - done.\n",
      "0...10...20...30...40...50...60...70...80...90...100 - done.\n"
     ]
    }
   ],
   "source": [
    "for data_att in fixed:\n",
    "    cells_path = fixed[data_att]\n",
    "    col = fiona.open(cells_path)\n",
    "    att_len = len(data_att)\n",
    "    attr_dict = {att:att for att in col.schema['properties'].keys() if not str(att) in ['id', 'col', 'row']}\n",
    "    sorted_attr_dict = dict(sorted(attr_dict.items()))\n",
    "    if len(sorted_attr_dict) == 0:\n",
    "        print(data_att)\n",
    "        \n",
    "    no_data_value = 0\n",
    "    v_cells_data = ogr.Open(str(cells_path))\n",
    "    l_cells_data = v_cells_data.GetLayer()\n",
    "    x_res = 25000\n",
    "    y_res = 25000\n",
    "    x_min, x_max, y_min, y_max = l_cells_data.GetExtent()\n",
    "\n",
    "    count = 0\n",
    "    list_files = []\n",
    "    for i, attr in enumerate(sorted_attr_dict):\n",
    "        #if i < 10:\n",
    "        #    continue\n",
    "        count +=1\n",
    "        target_ds = gdal.Rasterize(\n",
    "            str(tiff_path / f'{sorted_attr_dict[attr]}.tif'),\n",
    "            str(cells_path),\n",
    "            xRes = x_res,\n",
    "            yRes = y_res,\n",
    "            attribute  = sorted_attr_dict[attr],\n",
    "            outputBounds=[x_min, y_min, x_max, y_max],\n",
    "            noData = no_data_value,\n",
    "            outputType=gdal.GDT_Float32\n",
    "        )\n",
    "        list_files.append(str(tiff_path / f'{sorted_attr_dict[attr]}.tif'))\n",
    "        target_ds = None\n",
    "        #print(f'{count:02d} - {sorted_attr_dict[attr]}')\n",
    "\n",
    "    parameters = ['', '-separate', '-a_nodata', f'{no_data_value}', '-o', f'data/tiff/{data_att}.tif'] + list_files\n",
    "    gdal_merge.main(parameters)\n",
    "    for f in list_files:\n",
    "        fp = Path(f)\n",
    "        fp.unlink()\n"
   ]
  },
  {
   "cell_type": "markdown",
   "metadata": {},
   "source": [
    "## Count cells file"
   ]
  },
  {
   "cell_type": "code",
   "execution_count": 5,
   "metadata": {},
   "outputs": [],
   "source": [
    "from features import mask_path\n",
    "from utils.ops import load_sb_image, save_geotiff\n",
    "import numpy as np\n",
    "mask = load_sb_image(mask_path)\n",
    "count_image = -1 * np.ones_like(mask)\n",
    "shape = count_image.shape\n",
    "count_image = count_image.flatten()\n",
    "count_data = np.arange(mask.sum())\n",
    "count_image[mask.flatten() == 1] = count_data\n",
    "count_image = count_image.reshape(shape)\n",
    "save_geotiff(mask_path, 'data/tiff/valid_cells.tif', count_image, 'float', -1)"
   ]
  },
  {
   "cell_type": "code",
   "execution_count": 4,
   "metadata": {},
   "outputs": [
    {
     "data": {
      "text/plain": [
       "array([0.000e+00, 1.000e+00, 2.000e+00, ..., 7.226e+03, 7.227e+03,\n",
       "       7.228e+03])"
      ]
     },
     "execution_count": 4,
     "metadata": {},
     "output_type": "execute_result"
    }
   ],
   "source": [
    "count_data\n"
   ]
  },
  {
   "cell_type": "code",
   "execution_count": null,
   "metadata": {},
   "outputs": [],
   "source": []
  }
 ],
 "metadata": {
  "kernelspec": {
   "display_name": "ferrari",
   "language": "python",
   "name": "python3"
  },
  "language_info": {
   "codemirror_mode": {
    "name": "ipython",
    "version": 3
   },
   "file_extension": ".py",
   "mimetype": "text/x-python",
   "name": "python",
   "nbconvert_exporter": "python",
   "pygments_lexer": "ipython3",
   "version": "3.9.19"
  }
 },
 "nbformat": 4,
 "nbformat_minor": 2
}
