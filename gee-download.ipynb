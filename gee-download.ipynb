{
 "cells": [
  {
   "attachments": {},
   "cell_type": "markdown",
   "metadata": {},
   "source": [
    "# Importing"
   ]
  },
  {
   "cell_type": "code",
   "execution_count": 1,
   "metadata": {},
   "outputs": [],
   "source": [
    "%load_ext autoreload\n",
    "%autoreload 2"
   ]
  },
  {
   "cell_type": "code",
   "execution_count": 2,
   "metadata": {
    "tags": []
   },
   "outputs": [],
   "source": [
    "import ee\n",
    "import geemap\n",
    "import fiona\n",
    "import time\n",
    "import json\n",
    "from pathlib import Path\n",
    "import datetime\n",
    "import numpy as np\n",
    "#from utils.gee import export_sar, export_opt, export_maskcloud, export_opt_l1\n",
    "import yaml\n",
    "from utils.gee import export_nv, export_sar"
   ]
  },
  {
   "attachments": {},
   "cell_type": "markdown",
   "metadata": {},
   "source": [
    "# Authentication"
   ]
  },
  {
   "cell_type": "code",
   "execution_count": 3,
   "metadata": {
    "tags": []
   },
   "outputs": [
    {
     "data": {
      "text/html": [
       "<p>To authorize access needed by Earth Engine, open the following\n",
       "        URL in a web browser and follow the instructions:</p>\n",
       "        <p><a href=https://code.earthengine.google.com/client-auth?scopes=https%3A//www.googleapis.com/auth/earthengine%20https%3A//www.googleapis.com/auth/devstorage.full_control&request_id=JJPtwPfJ7pWFuvHmFct3yVGzU0atWSX6sxTFXLx53tg&tc=zhHAerOtP4eyoLqsHr530mlOAB3aFQ43yrNT9JMWOtM&cc=xhnDwLFjHFYUSINTajpOVCFCHiV3n5KWDBZ52bxuQSc>https://code.earthengine.google.com/client-auth?scopes=https%3A//www.googleapis.com/auth/earthengine%20https%3A//www.googleapis.com/auth/devstorage.full_control&request_id=JJPtwPfJ7pWFuvHmFct3yVGzU0atWSX6sxTFXLx53tg&tc=zhHAerOtP4eyoLqsHr530mlOAB3aFQ43yrNT9JMWOtM&cc=xhnDwLFjHFYUSINTajpOVCFCHiV3n5KWDBZ52bxuQSc</a></p>\n",
       "        <p>The authorization workflow will generate a code, which you should paste in the box below.</p>\n",
       "        "
      ],
      "text/plain": [
       "<IPython.core.display.HTML object>"
      ]
     },
     "metadata": {},
     "output_type": "display_data"
    },
    {
     "name": "stdout",
     "output_type": "stream",
     "text": [
      "\n",
      "Successfully saved authorization token.\n"
     ]
    }
   ],
   "source": [
    "ee.Authenticate()\n",
    "ee.Initialize()"
   ]
  },
  {
   "cell_type": "code",
   "execution_count": 4,
   "metadata": {},
   "outputs": [],
   "source": [
    "#roi = ee.Geometry.Rectangle([cfg['xmin'], cfg['ymin'], cfg['xmax'], cfg['ymax']])\n",
    "roi = ee.Geometry.Rectangle([-75.9909722200000033, -16.0477750000000015, -42.9509722199999970,7.2722249999999997])\n"
   ]
  },
  {
   "cell_type": "code",
   "execution_count": 5,
   "metadata": {},
   "outputs": [
    {
     "data": {
      "application/vnd.jupyter.widget-view+json": {
       "model_id": "3ab4611fdc504282bd71c7cdacb0e89b",
       "version_major": 2,
       "version_minor": 0
      },
      "text/plain": [
       "Map(center=[-5, -58], controls=(WidgetControl(options=['position', 'transparent_bg'], widget=HBox(children=(To…"
      ]
     },
     "execution_count": 5,
     "metadata": {},
     "output_type": "execute_result"
    }
   ],
   "source": [
    "map_view = geemap.Map(center=(-5, -58), zoom=4)\n",
    "map_view"
   ]
  },
  {
   "cell_type": "code",
   "execution_count": 6,
   "metadata": {},
   "outputs": [],
   "source": [
    "map_view.addLayer(roi, {}, 'Location')"
   ]
  },
  {
   "cell_type": "code",
   "execution_count": 7,
   "metadata": {},
   "outputs": [],
   "source": [
    "opt_vizParams = {\n",
    "  'bands': ['B4', 'B3', 'B2'],\n",
    "  'min': 0,\n",
    "  'max': 2048\n",
    "}\n",
    "\n",
    "sar_vizParamsVV = {\n",
    "  'bands': ['VV'],\n",
    "  'min': 0,\n",
    "  'max': 1\n",
    "}\n",
    "\n",
    "sar_vizParamsHH = {\n",
    "  'bands': ['HH'],\n",
    "  'min': 0,\n",
    "  'max': 1\n",
    "}\n",
    "\n",
    "cloud_vizParams = {\n",
    "  'bands': ['MSK_CLDPRB'],\n",
    "  'min': 0,\n",
    "  'max': 100\n",
    "}\n",
    "\n",
    "nv_vizParams = {\n",
    "  'bands': ['avg_rad'],\n",
    "  'min': 0,\n",
    "  'max': 100\n",
    "}"
   ]
  },
  {
   "cell_type": "code",
   "execution_count": 8,
   "metadata": {},
   "outputs": [],
   "source": [
    "nv_collection = ee.ImageCollection('NOAA/VIIRS/DNB/MONTHLY_V1/VCMCFG').filterDate('2023-01-01', '2023-12-31').filterBounds(roi)"
   ]
  },
  {
   "cell_type": "code",
   "execution_count": 9,
   "metadata": {},
   "outputs": [],
   "source": [
    "im = nv_collection.first().clip(roi)\n",
    "map_view.addLayer(im, nv_vizParams, f'nv')"
   ]
  },
  {
   "cell_type": "code",
   "execution_count": 10,
   "metadata": {},
   "outputs": [],
   "source": [
    "export_nv(im, roi, 'nv')"
   ]
  },
  {
   "cell_type": "code",
   "execution_count": 32,
   "metadata": {},
   "outputs": [],
   "source": [
    "sar_collection = ee.ImageCollection('JAXA/ALOS/PALSAR-2/Level2_2/ScanSAR').filterDate('2022-01-15', '2022-01-30').filterBounds(roi)\n",
    "sar_collection = sar_collection.filter(ee.Filter.listContains('transmitterReceiverPolarisation', 'VV'))\n",
    "sar_im = sar_collection.mean()\n",
    "map_view.addLayer(sar_im, sar_vizParamsVV, f'sar')"
   ]
  },
  {
   "cell_type": "code",
   "execution_count": 31,
   "metadata": {},
   "outputs": [],
   "source": [
    "export_sar(sar_im, roi, 'sar_amz_VV_2', 500)"
   ]
  },
  {
   "cell_type": "code",
   "execution_count": null,
   "metadata": {},
   "outputs": [],
   "source": []
  }
 ],
 "metadata": {
  "kernelspec": {
   "display_name": "Python 3 (ipykernel)",
   "language": "python",
   "name": "python3"
  },
  "language_info": {
   "codemirror_mode": {
    "name": "ipython",
    "version": 3
   },
   "file_extension": ".py",
   "mimetype": "text/x-python",
   "name": "python",
   "nbconvert_exporter": "python",
   "pygments_lexer": "ipython3",
   "version": "3.9.18"
  }
 },
 "nbformat": 4,
 "nbformat_minor": 4
}
