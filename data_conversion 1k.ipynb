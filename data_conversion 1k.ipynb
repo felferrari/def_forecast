{
 "cells": [
  {
   "cell_type": "markdown",
   "metadata": {},
   "source": [
    "## Importing"
   ]
  },
  {
   "cell_type": "code",
   "execution_count": 1,
   "metadata": {},
   "outputs": [],
   "source": [
    "import fiona\n",
    "from pathlib import Path\n",
    "import pandas as pd\n",
    "from osgeo import ogr, gdal, gdalconst, osr\n",
    "from osgeo_utils import gdal_merge\n",
    "import numpy as np\n"
   ]
  },
  {
   "cell_type": "markdown",
   "metadata": {},
   "source": [
    "## Paths"
   ]
  },
  {
   "cell_type": "code",
   "execution_count": 2,
   "metadata": {},
   "outputs": [
    {
     "name": "stdout",
     "output_type": "stream",
     "text": [
      "predictions-ibama.shp\n",
      "predictions-resunet.shp\n",
      "reference-ibama.shp\n",
      "reference-resunet.shp\n"
     ]
    }
   ],
   "source": [
    "tiff_path = Path(r'D:\\Ferrari\\Projects\\deforestation-forescast\\exp-1km\\tiff')\n",
    "shp_path = Path(r'D:\\Ferrari\\Projects\\deforestation-forescast\\exp-1km\\shp')\n",
    "\n",
    "for f in shp_path.glob('*.shp'):\n",
    "    print(f.name)"
   ]
  },
  {
   "cell_type": "markdown",
   "metadata": {},
   "source": [
    "## Conversion"
   ]
  },
  {
   "cell_type": "code",
   "execution_count": 3,
   "metadata": {},
   "outputs": [],
   "source": [
    "cells_path = shp_path / 'predictions-resunet.shp'\n",
    "output_path = tiff_path / 'predictions-resunet.tif'\n",
    "col = fiona.open(cells_path)\n",
    "attr_list = [att for att in col.schema['properties'].keys() if str(att).startswith('b')]\n",
    "sorted_attr_dict = sorted(attr_list)\n",
    "\n",
    "v_cells_data = ogr.Open(str(cells_path))\n",
    "l_cells_data = v_cells_data.GetLayer()\n",
    "x_res = 25000\n",
    "y_res = 25000\n",
    "x_min, x_max, y_min, y_max = l_cells_data.GetExtent()\n",
    "\n",
    "no_data_value = -1\n",
    "\n",
    "count = 0\n",
    "list_files = []\n",
    "for i, attr in enumerate(sorted_attr_dict):\n",
    "    #if i < 10:\n",
    "    #    continue\n",
    "    count +=1\n",
    "    target_ds = gdal.Rasterize(\n",
    "        str(tiff_path / f'{attr}.tif'),\n",
    "        str(cells_path),\n",
    "        xRes = x_res,\n",
    "        yRes = y_res,\n",
    "        attribute  = attr,\n",
    "        outputBounds=[x_min, y_min, x_max, y_max],\n",
    "        noData = no_data_value,\n",
    "        outputType=gdal.GDT_Float32\n",
    "    )\n",
    "    list_files.append(str(tiff_path / f'{attr}.tif'))\n",
    "    target_ds = None\n",
    "    #print(f'{count:02d} - {sorted_attr_dict[attr]}')\n",
    "\n",
    "output_path.unlink(missing_ok=True)\n",
    "parameters = ['', '-separate', '-a_nodata', f'{no_data_value}', '-o', str(output_path)] + list_files\n",
    "gdal_merge.main(parameters)\n",
    "for f in list_files:\n",
    "    fp = Path(f)\n",
    "    fp.unlink()"
   ]
  },
  {
   "cell_type": "code",
   "execution_count": 4,
   "metadata": {},
   "outputs": [],
   "source": [
    "cells_path = shp_path / 'reference-resunet.shp'\n",
    "output_path = tiff_path / 'reference-resunet.tif'\n",
    "col = fiona.open(cells_path)\n",
    "attr_list = [att for att in col.schema['properties'].keys() if str(att).startswith('b')]\n",
    "sorted_attr_dict = sorted(attr_list)\n",
    "\n",
    "v_cells_data = ogr.Open(str(cells_path))\n",
    "l_cells_data = v_cells_data.GetLayer()\n",
    "x_res = 25000\n",
    "y_res = 25000\n",
    "x_min, x_max, y_min, y_max = l_cells_data.GetExtent()\n",
    "\n",
    "no_data_value = -1\n",
    "\n",
    "count = 0\n",
    "list_files = []\n",
    "for i, attr in enumerate(sorted_attr_dict):\n",
    "    #if i < 10:\n",
    "    #    continue\n",
    "    count +=1\n",
    "    target_ds = gdal.Rasterize(\n",
    "        str(tiff_path / f'{attr}.tif'),\n",
    "        str(cells_path),\n",
    "        xRes = x_res,\n",
    "        yRes = y_res,\n",
    "        attribute  = attr,\n",
    "        outputBounds=[x_min, y_min, x_max, y_max],\n",
    "        noData = no_data_value,\n",
    "        outputType=gdal.GDT_Float32\n",
    "    )\n",
    "    list_files.append(str(tiff_path / f'{attr}.tif'))\n",
    "    target_ds = None\n",
    "    #print(f'{count:02d} - {sorted_attr_dict[attr]}')\n",
    "\n",
    "output_path.unlink(missing_ok=True)\n",
    "parameters = ['', '-separate', '-a_nodata', f'{no_data_value}', '-o', str(output_path)] + list_files\n",
    "gdal_merge.main(parameters)\n",
    "for f in list_files:\n",
    "    fp = Path(f)\n",
    "    fp.unlink()"
   ]
  },
  {
   "cell_type": "code",
   "execution_count": null,
   "metadata": {},
   "outputs": [],
   "source": []
  }
 ],
 "metadata": {
  "kernelspec": {
   "display_name": "ferrari",
   "language": "python",
   "name": "python3"
  },
  "language_info": {
   "codemirror_mode": {
    "name": "ipython",
    "version": 3
   },
   "file_extension": ".py",
   "mimetype": "text/x-python",
   "name": "python",
   "nbconvert_exporter": "python",
   "pygments_lexer": "ipython3",
   "version": "3.9.19"
  }
 },
 "nbformat": 4,
 "nbformat_minor": 2
}
